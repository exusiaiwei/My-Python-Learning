{
  "cells": [
    {
      "cell_type": "markdown",
      "metadata": {},
      "source": [
        "# 函数\n",
        "\n",
        "函数是编程中的基本构建块，允许我们将一段代码命名，并在需要的地方反复使用。运行这些语句的操作被称为调用函数。\n",
        "\n",
        "在我们的学习过程中，已经接触和使用了许多 Python 的内置函数，比如 `len` 和 `range` 函数。\n",
        "\n",
        "我们使用 `def` 关键字来定义函数。关键字 `def` 后面紧跟着的是函数的名字，然后是一对括号。括号内可以包含一些参数（即预设的变量名），此行语句以冒号结束。\n"
      ],
      "id": "cd23aa59"
    },
    {
      "cell_type": "code",
      "metadata": {},
      "source": [
        "def say_hello():\n",
        "    # 属于函数的代码块\n",
        "    print('hello world')\n",
        "# 函数结束\n",
        "\n",
        "say_hello()  # 调用函数\n",
        "say_hello()  # 再次调用函数"
      ],
      "id": "e1543a56",
      "execution_count": null,
      "outputs": []
    },
    {
      "cell_type": "markdown",
      "metadata": {},
      "source": [
        "以上代码定义了一个名为 `say_hello` 的函数。该函数没有接受任何参数，因此在括号里没有声明变量。我们可以通过传入不同的参数来让函数获得不同的输入，并得到相应的结果。\n",
        "\n",
        "## 函数参数\n",
        "\n",
        "函数可以接受参数，并利用这些值来执行某些效果。\n",
        "\n",
        "参数（parameter）：\n",
        "\n",
        "- 在定义函数时，我们为函数预留了一些位置，这些位置就是参数。参数是函数定义时的接收者。\n",
        "- 参数在函数头部的圆括号之间定义，用逗号分隔，它们在整个函数体内部都是可访问的。\n",
        "- 参数是变量，用于存储函数调用时传递的值（实参）。\n",
        "\n",
        "实参（argument）：\n",
        "\n",
        "- 在调用函数时，我们会向函数中传递一些值，这些值就是实参。实参是函数调用时的输入。\n",
        "- 实参是赋予函数中定义的参数的具体值。同样用逗号分隔。\n",
        "\n",
        "这个概念类似于食谱和做饭。食谱上的材料列表（比如说需要多少克的面粉，多少克的糖）就像是参数列表，而你实际使用的面粉和糖的数量就像实参。\n"
      ],
      "id": "d0d32755"
    },
    {
      "cell_type": "code",
      "metadata": {},
      "source": [
        "# 示例代码来源： A Byte of Python\n",
        "def print_max(a, b):\n",
        "    if a > b:\n",
        "        print(a, 'is maximum')  # 输出 a 是最大值\n",
        "    elif a == b:\n",
        "        print(a, 'is equal to', b)  # 输出 a 等于 b\n",
        "    else:\n",
        "        print(b, 'is maximum')  # 输出 b 是最大值\n",
        "\n",
        "# 直接传递字面值\n",
        "print_max(3, 4)\n",
        "\n",
        "x = 5\n",
        "y = 7\n",
        "\n",
        "# 将变量作为参数传递\n",
        "print_max(x, y)"
      ],
      "id": "e9730d03",
      "execution_count": null,
      "outputs": []
    },
    {
      "cell_type": "markdown",
      "metadata": {},
      "source": [
        "在示例代码中，我们定义了一个 `print_max` 的函数，其中包括两个参数 `a` 和 `b`。我们使用一个 `if..else` 语句来找出较大的数字并将其打印出来。\n",
        "\n",
        "第一次调用函数 `print_max` 时，我们直接提供数字作为参数。在第二种情况下，我们使用变量 `x`，`y` 作为参数调用函数。 `print_max(x, y)` 导致参数 `x` 的值被赋给参数 `a`，参数 `y` 的值被赋给参数 `b`。\n",
        "\n",
        "## 局部变量\n",
        "\n",
        "- 在函数定义内部声明的变量被称为“局部变量”。\n",
        "- \"局部变量\"的有效范围被限制在声明该变量的函数内部，这种约束被称为变量的\"作用域\"。\n",
        "- 变量的作用域从其声明的位置开始，直到该代码块或函数的结束。\n",
        "- 即使在函数外部存在同名变量，局部变量也被视为独立的变量。无论名称是否相同，函数内部的局部变量与函数外部的变量不会有任何关联。\n"
      ],
      "id": "3da54729"
    },
    {
      "cell_type": "code",
      "metadata": {},
      "source": [
        "# 示例代码来源： A Byte of Python\n",
        "x = 50\n",
        "\n",
        "def func(x):\n",
        "    print('x is', x)  # 输出 x 的值\n",
        "    x = 2  # 修改局部变量 x 的值\n",
        "    print('Changed local x to', x)  # 输出修改后的 x 的值\n",
        "\n",
        "\n",
        "func(x)\n",
        "print('x is still', x)  # 输出最初的 x 的值"
      ],
      "id": "fc58e180",
      "execution_count": null,
      "outputs": []
    },
    {
      "cell_type": "markdown",
      "metadata": {},
      "source": [
        "第一次在函数体的第一行打印变量 `x` 的值时，Python 使用在函数定义之前在主块中声明的参数值。\n",
        "\n",
        "接下来，我们给函数中的局部变量 `x` 赋值为2。当我们在函数中改变局部变量 `x` 的值时，主块中定义的 `x` 不受影响。\n",
        "\n",
        "## global 语句\n",
        "\n",
        "- 当我们需要对程序整体级别（即不在函数或类等特定作用域内）定义的变量进行赋值时，我们通常会使用全局声明语句（`global` statement）。\n",
        "- 全局声明语句告诉 Python，我们正在操作的是一个全局变量，而非局部变量。\n",
        "- 注意，如果不使用全局声明，我们是无法在函数内部直接修改函数外部定义的变量的。\n",
        "- 当在函数内部引用一个未经定义的变量时，Python 会尝试在函数外部查找这个变量。\n",
        "- 尽管如此，我们并不推荐这一措施，因为这可能导致代码阅读者在理解这个变量的定义位置上出现困扰。\n",
        "- 如果要在函数内部操作函数外部的变量，推荐使用 `global` 声明明确指出，表明你在操纵的是在全局范围内定义的变量。\n"
      ],
      "id": "1319e115"
    },
    {
      "cell_type": "code",
      "metadata": {},
      "source": [
        "# 示例代码来源： A Byte of Python\n",
        "x = 50\n",
        "\n",
        "def func():\n",
        "    global x\n",
        "\n",
        "    print('x is', x)  # 输出 x 的值\n",
        "    x = 2  # 修改全局变量 x 的值\n",
        "    print('Changed global x to', x)  # 输出修改后的 x 的值\n",
        "\n",
        "\n",
        "func()\n",
        "print('Value of x is', x)  # 输出最终的 x 的值"
      ],
      "id": "73b7f7df",
      "execution_count": null,
      "outputs": []
    },
    {
      "cell_type": "markdown",
      "metadata": {},
      "source": [
        "`global` 语句用于声明 `x` 是一个全局变量 - 因此，当我们在函数内部给 `x` 赋值时，当我们在主块中使用 `x` 的值时，这个变化会反映出来。\n",
        "\n",
        "可以使用相同的 `global` 语句指定多个全局变量，例如 `global x, y, z`。\n",
        "\n",
        "## 默认参数值\n",
        "\n",
        "我们可以通过设置默认参数值，使得某些函数参数变得可选。当用户没有显式提供参数值时，函数将会采用这些设置的默认值。\n",
        "\n",
        "可以通过在函数定义中，在需要设置默认值的参数名后面加上等号（=）及其默认值来实现这一点。\n"
      ],
      "id": "e2ca6275"
    },
    {
      "cell_type": "code",
      "metadata": {},
      "source": [
        "# 示例代码来源： A Byte of Python\n",
        "def say(message, times=1):\n",
        "    print(message * times)\n",
        "\n",
        "say('Hello')  # 输出 \"Hello\"\n",
        "say('World', 5)  # 输出 \"WorldWorldWorldWorldWorld\""
      ],
      "id": "f79630fe",
      "execution_count": null,
      "outputs": []
    },
    {
      "cell_type": "markdown",
      "metadata": {},
      "source": [
        "函数`say`的功能是按照我们指定的次数重复打印一个字符串。\n",
        "\n",
        "- 当我们没有明确指定打印次数时，该函数会默认打印一次该字符串。这是通过设置参数`times`的默认值为1来实现的。\n",
        "- 在第一种使用情况中，我们仅传入字符串参数，此时函数会默认打印一次该字符串。\n",
        "- 在第二种使用情况中，我们将字符串和一个数值5作为参数传入函数，此数值表示我们希望该字符串被重复打印5次。\n",
        "\n",
        "注意：\n",
        "\n",
        "- 只有参数列表末尾的参数才能具有默认参数值。\n",
        "- 即在函数的参数列表中，不能将具有默认参数值的参数放在没有默认参数值的参数之前。这是因为参数是按位置赋值的。\n",
        "- 例如，`def func(a, b=5)` 是有效的，但 `def func(a=5, b)` 是无效的。\n",
        "\n",
        "## 关键字参数\n",
        "\n",
        "- 如果你有一个带有大量参数的函数，并且你只希望指定其中的一部分参数，那么你可以使用命名参数。\n",
        "- 这种参数被称为关键字参数，其中参数值的指定是基于参数名称（关键字），而不是位置（这是我们之前一直使用的方式）。\n",
        "- 利用关键字参数，我们可以更灵活地调用函数，无需按照函数定义时参数的顺序一一对应。\n",
        "- 只要其他参数具有默认参数值，我们可以只给我们想要的参数赋值。\n"
      ],
      "id": "1c99d4bc"
    },
    {
      "cell_type": "code",
      "metadata": {},
      "source": [
        "# 示例代码来源： A Byte of Python\n",
        "def func(a, b=5, c=10):\n",
        "    print('a is', a, 'and b is', b, 'and c is', c)\n",
        "\n",
        "func(3, 7)\n",
        "func(25, c=24)\n",
        "func(c=50, a=100)"
      ],
      "id": "07251134",
      "execution_count": null,
      "outputs": []
    },
    {
      "cell_type": "markdown",
      "metadata": {},
      "source": [
        "名为`func`的函数有一个参数没有默认参数值，接着是两个带有默认参数值的参数。\n",
        "\n",
        "- 在第一种用法中，`func(3, 7)`，参数`a`获得值3，参数`b`获得值7，而`c`获得默认值10。\n",
        "- 在第二种用法中，变量`func(25, c=24)`由于参数的位置而获得值25。然后，参数`c`由于命名即关键字参数而获得值24。变量`b`获得默认值5。\n",
        "- 在第三种用法中，我们对所有指定的值使用关键字参数。\n",
        "- 需要注意的是，尽管在函数定义中，参数`a`在参数`c`之前，我们却可以先为参数`c`指定值，再为参数`a`指定值。这是关键字参数的一个特点。\n",
        "\n",
        "## 可变参数\n",
        "\n",
        "可变参数是一种特殊的参数，它可以接收任意数量的参数。这在你预先不知道会有多少参数被传入函数，或者数量会变化的情况下非常有用。\n",
        "\n",
        "在Python中，可变参数是通过在参数前面添加星号（*）来表示的。\n"
      ],
      "id": "7271c576"
    },
    {
      "cell_type": "code",
      "metadata": {},
      "source": [
        "# 示例代码来源： A Byte of Python\n",
        "def total(a=5, *numbers, **phonebook):\n",
        "    print('a', a)\n",
        "\n",
        "    # 遍历元组中的所有项\n",
        "    for single_item in numbers:\n",
        "        print('single_item', single_item)\n",
        "\n",
        "    # 遍历字典中的所有项\n",
        "    for first_part, second_part in phonebook.items():\n",
        "        print(first_part, second_part)\n",
        "\n",
        "total(10, 1, 2, 3, Jack=1123, John=2231, Inge=1560) "
      ],
      "id": "126a9090",
      "execution_count": null,
      "outputs": []
    },
    {
      "cell_type": "markdown",
      "metadata": {},
      "source": [
        "- 当我们声明一个带星号的参数，比如 `*param` ，那么从该位置开始到最后的所有位置参数都会被收集成一个名为'param'的元组。\n",
        "- 同样地，当我们声明一个双星参数，比如 `**param` ，那么从那个点开始直到结尾的所有关键字参数都会被收集到一个叫做'param'的字典中。\n",
        "- 我们可以在函数的内部，如同访问一个普通的元组或字典一样来访问这些参数。\n",
        "- 一个函数只能有一个可变参数，并且必须放在所有的位置参数和默认参数之后。\n",
        "\n",
        "## `return` 语句\n",
        "\n",
        "`return` 语句用于从函数中返回结果或者结束函数的运行。\n",
        "\n",
        "在一个函数中，`return` 语句后面可以跟一个表达式，此表达式的值就是这个函数的返回值。\n"
      ],
      "id": "70b12aef"
    },
    {
      "cell_type": "code",
      "metadata": {},
      "source": [
        "# 示例代码来源： A Byte of Python\n",
        "def maximum(x, y):\n",
        "    if x > y:\n",
        "        return x\n",
        "    elif x == y:\n",
        "        return 'The numbers are equal'\n",
        "    else:\n",
        "        return y\n",
        "\n",
        "print(maximum(2, 3)) "
      ],
      "id": "2c86970f",
      "execution_count": null,
      "outputs": []
    },
    {
      "cell_type": "markdown",
      "metadata": {},
      "source": [
        "- 在这个函数中，`maximum` 函数使用一个简单的 `if..else` 语句来找到较大的值，然后返回该值。\n",
        "- 在这个例子中，如果我们调用`maximum(2, 3)`，那么这个函数的返回值就是3。\n",
        "- 需要注意的是，一旦 `return` 语句被执行，函数的运行就会立即结束，后面的代码都不会再被执行。\n",
        "- 请注意，一个没有值的语句等同于 `return None` 。在Python中， `None` 是一个特殊类型，表示无值。\n",
        "- 每个函数在结尾处都隐含有一个 `return None` 语句，除非你自己编写了 `return` 语句。\n",
        "- 有一个内置函数叫做 `max` ，已经实现了“查找最大值”的功能。所以尽可能使用这个内置函数。\n",
        "\n",
        "## 文档字符串\n",
        "\n",
        "文档字符串，英文称为`Docstrings`，是一种在Python中对函数、方法、类、模块等提供说明的注释方式，具有非常重要的参考价值。\n",
        "\n",
        "文档字符串位于函数、方法、类、模块定义的第一行，由一对三引号(\"\"\"或''')引起来，可以是单行也可以是多行。\n"
      ],
      "id": "59629c6a"
    },
    {
      "cell_type": "code",
      "metadata": {},
      "source": [
        "# 示例代码来源： A Byte of Python\n",
        "def print_max(x, y):\n",
        "    '''Prints the maximum of two numbers.\n",
        "\n",
        "    The two values must be integers.'''\n",
        "    # convert to integers, if possible\n",
        "    x = int(x)\n",
        "    y = int(y)\n",
        "\n",
        "    if x > y:\n",
        "        print(x, 'is maximum')\n",
        "    else:\n",
        "        print(y, 'is maximum')\n",
        "\n",
        "print_max(3, 5)\n",
        "print(print_max.__doc__)"
      ],
      "id": "ec8133c3",
      "execution_count": null,
      "outputs": []
    },
    {
      "cell_type": "markdown",
      "metadata": {},
      "source": [
        "- 通行的文档字符串的格式是：使用多行字符串，其中第一行以大写字母开头，以句号结尾。然后第二行为空行，接着从第三行开始提供任何详细的解释。\n",
        "- 强烈建议您在所有非平凡函数的文档字符串中遵循这个约定。\n",
        "- 在这个例子中，我们可以使用函数的 `__doc__` 属性（注意双下划线）来访问 `print_max` 函数的文档字符串。\n",
        "- Python中的 help()的作用即是获取该函数的 `__doc__` 属性，并以整洁的方式呈现。可以尝试输入 `help(print_max)` 来查看 `print_max` 函数的文档字符串。\n",
        "- 自动化工具可以以这种方式从您的程序中检索文档。因此，强烈建议在编写任何非平凡函数时使用文档字符串。\n",
        "\n",
        "## 装饰器\n",
        "\n",
        "装饰器（Decorators）是Python中一个非常强大且有用的特性，它允许程序员修改或增强一个函数、方法或类的行为，而不需要直接修改其本身的代码。装饰器本质上是一个函数，它接受一个函数作为参数并返回一个新的函数。通过这种方式，装饰器提供了一种灵活的方法来“装饰”或“包装”另一个函数，以便在调用原始函数之前或之后执行额外的代码。\n",
        "\n",
        "### 基本使用\n",
        "\n",
        "装饰器的基本语法如下：\n"
      ],
      "id": "27d403ae"
    },
    {
      "cell_type": "code",
      "metadata": {},
      "source": [
        "def my_decorator(func):\n",
        "    def wrapper():\n",
        "        # 在func被调用前可以执行一些代码\n",
        "        print(\"Something is happening before the function is called.\")\n",
        "        func()\n",
        "        # 在func被调用后可以执行一些代码\n",
        "        print(\"Something is happening after the function is called.\")\n",
        "    return wrapper\n",
        "\n",
        "# 使用装饰器\n",
        "@my_decorator\n",
        "def say_hello():\n",
        "    print(\"Hello!\")\n",
        "\n",
        "# 调用函数\n",
        "say_hello()"
      ],
      "id": "bb5cd41a",
      "execution_count": null,
      "outputs": []
    },
    {
      "cell_type": "markdown",
      "metadata": {},
      "source": [
        "在这个例子中，`my_decorator` 是一个装饰器，它接受一个函数 `func` 作为参数，并返回一个新的函数 `wrapper`。`wrapper` 函数在调用 `func` 前后添加了额外的行为。使用 `@my_decorator` 语法，我们“装饰”了 `say_hello` 函数，使得在调用 `say_hello` 时，实际上是调用了 `wrapper` 函数。\n",
        "\n",
        "### 带参数的函数装饰器\n",
        "\n",
        "如果原始函数需要接受参数，装饰器可以通过在 `wrapper` 函数中使用 `*args` 和 `**kwargs` 来接受任意数量的位置参数和关键字参数：\n"
      ],
      "id": "62213ecf"
    },
    {
      "cell_type": "code",
      "metadata": {},
      "source": [
        "def my_decorator(func):\n",
        "    def wrapper(*args, **kwargs):\n",
        "        print(\"Something is happening before the function is called.\")\n",
        "        result = func(*args, **kwargs)\n",
        "        print(\"Something is happening after the function is called.\")\n",
        "        return result\n",
        "    return wrapper\n",
        "\n",
        "@my_decorator\n",
        "def say(message):\n",
        "    print(message)\n",
        "\n",
        "say(\"Hello with decorator!\")"
      ],
      "id": "c7472c7f",
      "execution_count": null,
      "outputs": []
    },
    {
      "cell_type": "markdown",
      "metadata": {},
      "source": [
        "### 带参数的装饰器\n",
        "\n",
        "有时候，我们希望装饰器本身能够接受参数。这需要我们创建一个“返回装饰器的装饰器”的函数：\n"
      ],
      "id": "2aa78acc"
    },
    {
      "cell_type": "code",
      "metadata": {},
      "source": [
        "def repeat(number_of_times):\n",
        "    def decorator_repeat(func):\n",
        "        def wrapper(*args, **kwargs):\n",
        "            for _ in range(number_of_times):\n",
        "                result = func(*args, **kwargs)\n",
        "            return result\n",
        "        return wrapper\n",
        "    return decorator_repeat\n",
        "\n",
        "@repeat(number_of_times=3)\n",
        "def greet(name):\n",
        "    print(f\"Hello {name}\")\n",
        "\n",
        "greet(\"World\")"
      ],
      "id": "653ba8d9",
      "execution_count": null,
      "outputs": []
    },
    {
      "cell_type": "markdown",
      "metadata": {},
      "source": [
        "在这个例子中，`repeat` 函数是一个接受参数 `number_of_times` 的装饰器。它内部定义了装饰器 `decorator_repeat`，`decorator_repeat` 又定义了 `wrapper` 函数。这样，我们就可以控制 `greet` 函数被重复执行的次数。\n",
        "\n",
        "### 装饰器的实际应用\n",
        "\n",
        "装饰器在实际编程中有许多有用的应用场景，包括：\n",
        "\n",
        "- 日志记录：在函数执行前后记录日志信息。\n",
        "- 性能测试：记录函数的执行时间，用于性能分析。\n",
        "- 权限验证：检查执行函数之前用户的权限。\n",
        "- 缓存：缓存函数的返回结果，提高性能。\n",
        "\n",
        "装饰器提供了一种优雅的方式来增强函数的功能，而不需要修改原始函数的代码，使得代码更加模块化和可重用。学习如何有效地使用装饰器，是成为一名高效Python程序员的重要步骤之一。"
      ],
      "id": "06108f3e"
    }
  ],
  "metadata": {
    "kernelspec": {
      "name": "python3",
      "display_name": "Python 3",
      "language": "python"
    },
    "path": "C://Conda_data//envs//main"
  },
  "nbformat": 4,
  "nbformat_minor": 5
}